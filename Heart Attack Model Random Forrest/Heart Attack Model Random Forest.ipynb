{
 "cells": [
  {
   "cell_type": "markdown",
   "metadata": {},
   "source": [
    "# Import Important Libraries"
   ]
  },
  {
   "cell_type": "code",
   "execution_count": 0,
   "metadata": {
    "colab": {},
    "colab_type": "code",
    "id": "-c2qiA4ihXRr"
   },
   "outputs": [],
   "source": [
    "import numpy\n",
    "import math\n",
    "import pandas as pd\n",
    "from sklearn.svm import SVC\n",
    "import random\n",
    "from sklearn.model_selection import train_test_split\n",
    "from sklearn.ensemble import RandomForestClassifier\n",
    "from sklearn import preprocessing\n",
    "from sklearn.externals import joblib \n",
    "import pickle"
   ]
  },
  {
   "cell_type": "markdown",
   "metadata": {},
   "source": [
    "# Read Heart Dataset"
   ]
  },
  {
   "cell_type": "code",
   "execution_count": 0,
   "metadata": {
    "colab": {},
    "colab_type": "code",
    "id": "R6FV6Lb_hXRw"
   },
   "outputs": [],
   "source": [
    "data = pd.read_csv(\"heart.csv\")\n",
    "y = data.iloc[:, 13]\n",
    "data = data.iloc[:, 0:13]"
   ]
  },
  {
   "cell_type": "markdown",
   "metadata": {},
   "source": [
    "# Attributes Not Selected"
   ]
  },
  {
   "cell_type": "code",
   "execution_count": 0,
   "metadata": {
    "colab": {},
    "colab_type": "code",
    "id": "Xz4Xg2l4hXSA"
   },
   "outputs": [],
   "source": [
    "colname=list()\n",
    "colname.append(\"age\")\n",
    "colname.append(\"cp\")\n",
    "colname.append(\"exang\")\n",
    "colname.append(\"oldpeak\")\n",
    "colname.append(\"slope\")\n",
    "colname.append(\"ca\")\n",
    "colname.append(\"thal\")\n",
    "colname.append(\"chol\")\n",
    "colname.append(\"restecg\")\n",
    "for name in colname:\n",
    "    data.drop([name],axis='columns',inplace=True)"
   ]
  },
  {
   "cell_type": "markdown",
   "metadata": {},
   "source": [
    "# Normalization of DataSet"
   ]
  },
  {
   "cell_type": "code",
   "execution_count": 0,
   "metadata": {
    "colab": {},
    "colab_type": "code",
    "id": "mnfzCdyvhXSI"
   },
   "outputs": [],
   "source": [
    "x = data.values\n",
    "min_max_scaler = preprocessing.MinMaxScaler()\n",
    "min_max_scaler.fit(training_set)\n",
    "x1_scaled = min_max_scaler.fit_transform(x)\n",
    "joblib.dump(x1_scaled, 'mix_max_scaler.pkl') \n",
    "data = pd.DataFrame(x1_scaled)\n",
    "data.columns = ['sex','trestbps','fbs','restecg','thalach']"
   ]
  },
  {
   "cell_type": "markdown",
   "metadata": {},
   "source": [
    "# Splitting of Dataset into Training and Testing"
   ]
  },
  {
   "cell_type": "code",
   "execution_count": 0,
   "metadata": {
    "colab": {},
    "colab_type": "code",
    "id": "pKtTA6AahXSM"
   },
   "outputs": [],
   "source": [
    "train_x,test_x,train_y,test_y = train_test_split(data.copy(),y.copy(), test_size=0.25,random_state=50)"
   ]
  },
  {
   "cell_type": "markdown",
   "metadata": {},
   "source": [
    "# Random Forrest Classifier"
   ]
  },
  {
   "cell_type": "code",
   "execution_count": 0,
   "metadata": {
    "colab": {},
    "colab_type": "code",
    "id": "OjhMkLC4hXSc"
   },
   "outputs": [],
   "source": [
    "rf_scores = []\n",
    "e = [11,21,31,41,51,61,71,81,91,101,111,121,131,141,151,161,171,181,191,201]\n",
    "for i in range(len(e)):\n",
    "    rf_classifier  = RandomForestClassifier(n_estimators=e[i])\n",
    "    rf_classifier.fit(train_x.copy(), train_y.copy())\n",
    "    rf_scores.append(rf_classifier.score(test_x.copy(), test_y.copy()))\n",
    "print(rf_scores)"
   ]
  },
  {
   "cell_type": "code",
   "execution_count": 0,
   "metadata": {
    "colab": {},
    "colab_type": "code",
    "id": "5Ap54TJpxJr1"
   },
   "outputs": [],
   "source": [
    "rf_classifier  = RandomForestClassifier(n_estimators=40)\n",
    "rf_classifier.fit(train_x.copy(), train_y.copy())\n",
    "print(rf_classifier.score(test_x.copy(), test_y.copy()))"
   ]
  },
  {
   "cell_type": "markdown",
   "metadata": {},
   "source": [
    "# Saving Model"
   ]
  },
  {
   "cell_type": "code",
   "execution_count": 0,
   "metadata": {
    "colab": {},
    "colab_type": "code",
    "id": "ERCi_tOlxBTg"
   },
   "outputs": [],
   "source": [
    "# save the model to disk\n",
    "filename = 'finalized_model_RF.sav'\n",
    "pickle.dump(rf_classifier, open(filename, 'wb'))"
   ]
  },
  {
   "cell_type": "markdown",
   "metadata": {},
   "source": [
    "# SVM with GA Functions"
   ]
  },
  {
   "cell_type": "code",
   "execution_count": 0,
   "metadata": {
    "colab": {},
    "colab_type": "code",
    "id": "fvNOL5OBhXSV"
   },
   "outputs": [],
   "source": [
    "def compute_SVM(c_value,gamma_value):\n",
    "    svc_classifier = SVC(kernel = \"rbf\",random_state=0, gamma=gamma_value, C=c_value)\n",
    "    svc_classifier.fit(train_x.copy(), train_y.copy())\n",
    "    return svc_classifier.score(test_x.copy(), test_y.copy())"
   ]
  },
  {
   "cell_type": "code",
   "execution_count": 0,
   "metadata": {
    "colab": {},
    "colab_type": "code",
    "id": "EMc0ym0RhXSg"
   },
   "outputs": [],
   "source": [
    "def cal_fitness(C,population):\n",
    "    fitness_ls=list()\n",
    "    result=list()\n",
    "    for row in population:\n",
    "        exp=0\n",
    "        gamma=0\n",
    "        for x in numpy.nditer(row):\n",
    "            gamma+=(pow(2, exp))*x\n",
    "            exp+=1\n",
    "        gamma=math.sqrt(gamma)\n",
    "        score=0\n",
    "        if gamma > 0:\n",
    "            score=compute_SVM(C,gamma)\n",
    "        fitness_ls.append(score)\n",
    "        new_ls=[score,C,gamma]\n",
    "        result.append(new_ls.copy())\n",
    "    fitness=numpy.array(fitness_ls)\n",
    "    return fitness,result"
   ]
  },
  {
   "cell_type": "code",
   "execution_count": 0,
   "metadata": {
    "colab": {},
    "colab_type": "code",
    "id": "ZfECdq-bhXSj"
   },
   "outputs": [],
   "source": [
    "def select_parents(population_gamma, fitness, num_parents):\n",
    "    parents = numpy.empty((num_parents, population_gamma.shape[1]))\n",
    "    for parent_num in range(num_parents):\n",
    "        max_fitness = numpy.where(fitness == numpy.max(fitness))\n",
    "        max_fitness = max_fitness[0][0]\n",
    "        parents[parent_num, :] = population_gamma[max_fitness, :]\n",
    "        fitness[max_fitness] = -1\n",
    "    return parents"
   ]
  },
  {
   "cell_type": "code",
   "execution_count": 0,
   "metadata": {
    "colab": {},
    "colab_type": "code",
    "id": "hIc3bHU3hXSr"
   },
   "outputs": [],
   "source": [
    "def crossover(parents, offspring_size):\n",
    "    offspring = numpy.empty(offspring_size)\n",
    "    for k in range(offspring_size[0]):\n",
    "        crossover_point = numpy.random.randint(1,parents.shape[1])\n",
    "        parent1 = k%parents.shape[0]\n",
    "        parent2 = (k+1)%parents.shape[0]\n",
    "        offspring[k, 0:crossover_point] = parents[parent1, 0:crossover_point]\n",
    "        offspring[k, crossover_point:] = parents[parent2, crossover_point:]\n",
    "    return offspring"
   ]
  },
  {
   "cell_type": "code",
   "execution_count": 0,
   "metadata": {
    "colab": {},
    "colab_type": "code",
    "id": "7px39kVChXSv"
   },
   "outputs": [],
   "source": [
    "def mutation(offspring_crossover):\n",
    "    for idx in range(offspring_crossover.shape[0]):\n",
    "        values=numpy.random.randint(low=1, high=5)\n",
    "        for v in range(values):\n",
    "            offspring_crossover[idx,numpy.random.randint(low=0, high=10)] = numpy.random.randint(0,2)\n",
    "    return offspring_crossover"
   ]
  },
  {
   "cell_type": "code",
   "execution_count": 0,
   "metadata": {
    "colab": {},
    "colab_type": "code",
    "id": "eHpL90elhXSy"
   },
   "outputs": [],
   "source": [
    "def max_value(result,fitness):\n",
    "    max_result=result[0][0]\n",
    "    max_index=0\n",
    "    i=0\n",
    "    for row in result:\n",
    "        if max_result<row[0]:\n",
    "            max_result=row[0]\n",
    "            max_index=i\n",
    "        i+=1\n",
    "    return result[max_index]"
   ]
  },
  {
   "cell_type": "markdown",
   "metadata": {},
   "source": [
    "# Main Method of SVM with GA"
   ]
  },
  {
   "cell_type": "code",
   "execution_count": 0,
   "metadata": {
    "colab": {},
    "colab_type": "code",
    "id": "rH-_dADvhXS1",
    "scrolled": false
   },
   "outputs": [],
   "source": [
    "chromosome_length = 10\n",
    "initial_population_size = 50\n",
    "parents_crossover = 10\n",
    "mutation_rate_gamma = 5\n",
    "mutation_rate_C = 5\n",
    "population_size = (initial_population_size,chromosome_length)\n",
    "new_population_C = numpy.random.randint(low=0, high=2, size=population_size)\n",
    "new_population_gamma = numpy.random.randint(low=0, high=2, size=population_size)\n",
    "num_generations=10\n",
    "max_result_SVM=[0,0,0]\n",
    "#print(\"\")\n",
    "for generation in range(num_generations):\n",
    "    fitness_C=list()\n",
    "    print(\"Generation : \", generation)\n",
    "    print(\"\")\n",
    "    generation_C=1\n",
    "    for row in new_population_C:\n",
    "        print(\"Generation_C : \", generation_C)\n",
    "        print(\"\")\n",
    "        generation_C+=1\n",
    "        num_generations_C = 10\n",
    "        exp=0\n",
    "        C=0\n",
    "        for x in numpy.nditer(row):\n",
    "            C+=(pow(2, exp))*x\n",
    "            exp+=1\n",
    "        max_result=list()\n",
    "        if C > 0 :\n",
    "            for generation_gamma in range(num_generations_C):\n",
    "                print(\"Generation_gamma : \", generation_gamma)\n",
    "                print(\"\")\n",
    "                fitness,result = cal_fitness(C,new_population_gamma)\n",
    "                parents = select_parents(new_population_gamma, fitness,parents_crossover)\n",
    "                offspring_crossover = crossover(parents,offspring_size=(initial_population_size-parents.shape[0], chromosome_length))\n",
    "                if (generation_gamma%mutation_rate_gamma)==0:\n",
    "                    offspring_crossover = mutation(offspring_crossover)\n",
    "                    parents = mutation(parents)\n",
    "                new_population_gamma[0:parents.shape[0], :] = parents\n",
    "                new_population_gamma[parents.shape[0]:, :] = offspring_crossover\n",
    "                max_result=max_value(result,fitness)\n",
    "                if max_result_SVM[0] < max_result[0]:\n",
    "                    max_result_SVM[0] = max_result[0]\n",
    "                    max_result_SVM[1] = max_result[1]\n",
    "                    max_result_SVM[2] = max_result[2]\n",
    "                print(\"Result: \",max_result[0],\"C: \",max_result[1],\"Gamma: \",max_result[2])\n",
    "                print(\"\")\n",
    "            fitness_C.append(max_result[0])\n",
    "        else:\n",
    "            fitness_C.append(0)\n",
    "    fitness=numpy.array(fitness_C)\n",
    "    parents_C = select_parents(new_population_C, fitness_C,parents_crossover)\n",
    "    offspring_crossover_C = crossover(parents,offspring_size=(initial_population_size-parents_C.shape[0], chromosome_length))\n",
    "    if (generation_C%mutation_rate_C)==0:\n",
    "        offspring_crossover_C = mutation(offspring_crossover_C)\n",
    "    new_population_C[0:parents.shape[0], :] = parents_C\n",
    "    new_population_C[parents.shape[0]:, :] = offspring_crossover_C\n",
    "print(\"Optimized Result: \",max_result_SVM[0],\"Optimized C: \",max_result_SVM[1],\"Optimized Gamma: \",max_result_SVM[2])"
   ]
  }
 ],
 "metadata": {
  "accelerator": "GPU",
  "colab": {
   "collapsed_sections": [],
   "name": "Code.ipynb",
   "private_outputs": true,
   "provenance": [],
   "toc_visible": true
  },
  "kernelspec": {
   "display_name": "Python 3",
   "language": "python",
   "name": "python3"
  },
  "language_info": {
   "codemirror_mode": {
    "name": "ipython",
    "version": 3
   },
   "file_extension": ".py",
   "mimetype": "text/x-python",
   "name": "python",
   "nbconvert_exporter": "python",
   "pygments_lexer": "ipython3",
   "version": "3.6.8"
  }
 },
 "nbformat": 4,
 "nbformat_minor": 1
}
